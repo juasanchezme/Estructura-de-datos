{
 "cells": [
  {
   "cell_type": "markdown",
   "metadata": {},
   "source": [
    "## Ejercicio 1"
   ]
  },
  {
   "cell_type": "code",
   "execution_count": 3,
   "metadata": {},
   "outputs": [
    {
     "name": "stdout",
     "output_type": "stream",
     "text": [
      "Ingrese los turnos, 'sig' para atender y 'end' para finalizar:\n",
      "Último turno atendido: 20\n"
     ]
    }
   ],
   "source": [
    "import heapq\n",
    "\n",
    "def ultimo_turno():\n",
    "    cola_turnos = []\n",
    "    ultimo_atendido = 0\n",
    "\n",
    "    while True:\n",
    "        turno = input().strip()  # Leer entrada del usuario y eliminar espacios extra\n",
    "        if turno == \"end\":\n",
    "            break\n",
    "        elif turno == \"sig\":\n",
    "            if cola_turnos:\n",
    "                ultimo_atendido = heapq.heappop(cola_turnos)\n",
    "        else:\n",
    "            heapq.heappush(cola_turnos, int(turno))\n",
    "\n",
    "    return ultimo_atendido\n",
    "\n",
    "# Ejecución\n",
    "\n",
    "resultado = ultimo_turno()\n",
    "print(resultado)\n"
   ]
  },
  {
   "cell_type": "markdown",
   "metadata": {},
   "source": [
    "## Ejercicio 2"
   ]
  },
  {
   "cell_type": "code",
   "execution_count": 4,
   "metadata": {},
   "outputs": [
    {
     "name": "stdout",
     "output_type": "stream",
     "text": [
      "Equipo A: 1\n",
      "Equipo B: 2\n",
      "Equipo C: 3\n"
     ]
    }
   ],
   "source": [
    "from collections import defaultdict\n",
    "\n",
    "def jugar_equipos():\n",
    "    # Inicializar equipos y puntuaciones\n",
    "    equipos = {\n",
    "        'A': [],\n",
    "        'B': [],\n",
    "        'C': []\n",
    "    }\n",
    "    puntos = {\n",
    "        'A': 0,\n",
    "        'B': 0,\n",
    "        'C': 0\n",
    "    }\n",
    "    \n",
    "    while True:\n",
    "        entrada = input().strip()\n",
    "        \n",
    "        if entrada == \"fin del juego\":\n",
    "            break\n",
    "            \n",
    "        if entrada == \"menores\":\n",
    "            # Encontrar el menor número de cada equipo\n",
    "            menores = {}\n",
    "            for equipo in equipos:\n",
    "                if equipos[equipo]:  # Si el equipo no está vacío\n",
    "                    menores[equipo] = min(equipos[equipo])\n",
    "            \n",
    "            if menores:  # Si hay algún menor\n",
    "                # Encontrar el valor mínimo entre todos los menores\n",
    "                min_valor = min(menores.values())\n",
    "                \n",
    "                # Equipos que tienen el menor valor\n",
    "                ganadores = [eq for eq, val in menores.items() if val == min_valor]\n",
    "                \n",
    "                # Asignar puntos a los ganadores\n",
    "                for ganador in ganadores:\n",
    "                    puntos[ganador] += 1\n",
    "                \n",
    "                # Eliminar los números usados de cada equipo\n",
    "                for equipo in menores:\n",
    "                    equipos[equipo].remove(menores[equipo])\n",
    "        \n",
    "        else:\n",
    "            # Procesar entrada de nuevo jugador\n",
    "            equipo, numero = entrada.split()\n",
    "            numero = int(numero)\n",
    "            equipos[equipo].append(numero)\n",
    "    \n",
    "    # Mostrar resultados finales\n",
    "    print(f\"Equipo A: {puntos['A']}\")\n",
    "    print(f\"Equipo B: {puntos['B']}\")\n",
    "    print(f\"Equipo C: {puntos['C']}\")\n",
    "\n",
    "# Ejecutar el juego\n",
    "jugar_equipos()"
   ]
  },
  {
   "cell_type": "markdown",
   "metadata": {},
   "source": [
    "## Ejercicio 3"
   ]
  },
  {
   "cell_type": "code",
   "execution_count": 14,
   "metadata": {},
   "outputs": [
    {
     "name": "stdout",
     "output_type": "stream",
     "text": [
      "Equipo A: 4\n",
      "Equipo B: 0\n",
      "Equipo C: 4\n"
     ]
    }
   ],
   "source": [
    "from collections import defaultdict\n",
    "\n",
    "def lucha_de_los_menores(entradas):\n",
    "    \"\"\"\n",
    "    Simula el juego de la lucha de los menores.\n",
    "\n",
    "    Args:\n",
    "        entradas: Una lista de tuplas (equipo, número) representando las acciones del juego.\n",
    "\n",
    "    Returns:\n",
    "        Un diccionario con los puntajes finales de cada equipo.\n",
    "    \"\"\"\n",
    "\n",
    "    equipos = defaultdict(list)\n",
    "    puntajes = defaultdict(int)\n",
    "\n",
    "    for entrada in entradas:\n",
    "        if entrada == 'fin del juego':\n",
    "            break\n",
    "        elif entrada == 'menores':\n",
    "            # Obtener los jugadores con el menor número de cada equipo\n",
    "            minimos = {e: min(nums) for e, nums in equipos.items() if nums}\n",
    "            if not minimos:\n",
    "                continue  # Triple vacío, no se suman puntos\n",
    "            # Determinar el ganador y actualizar los puntajes\n",
    "            menor = min(minimos.values())\n",
    "            for e, num in minimos.items():\n",
    "                if num == menor:\n",
    "                    puntajes[e] += 1\n",
    "        else:\n",
    "            # Agregar un jugador a un equipo\n",
    "            equipo, numero = entrada\n",
    "            equipos[equipo].append(numero)\n",
    "\n",
    "    return puntajes\n",
    "\n",
    "# Ejemplo de uso\n",
    "entradas = [\n",
    "    ('A', 10), ('A', 20), ('B', 15), ('B', 18), ('C', 10), ('C', 16),\n",
    "    'menores', 'menores', ('B', 24), ('C', 24), ('A', 30), ('B', 28),\n",
    "    'menores', 'menores', 'fin del juego'\n",
    "]\n",
    "\n",
    "resultado = lucha_de_los_menores(entradas)\n",
    "\n",
    "# Imprimir los resultados finales\n",
    "for equipo in ['A', 'B', 'C']:\n",
    "    print(f'Equipo {equipo}: {resultado[equipo]}')\n"
   ]
  },
  {
   "cell_type": "markdown",
   "metadata": {},
   "source": [
    "## Ejercicio 4"
   ]
  },
  {
   "cell_type": "code",
   "execution_count": 14,
   "metadata": {},
   "outputs": [
    {
     "name": "stdout",
     "output_type": "stream",
     "text": [
      "108\n",
      "1998\n",
      "604\n"
     ]
    }
   ],
   "source": [
    "def menor_suma_posible(casos):\n",
    "    resultados = []\n",
    "    \n",
    "    for caso in casos:\n",
    "        N, numeros = caso\n",
    "        # Ordenamos los números\n",
    "        numeros.sort()\n",
    "        \n",
    "        # Dividimos los números en dos partes alternadas\n",
    "        X = \"\"\n",
    "        Y = \"\"\n",
    "        \n",
    "        for i in range(N):\n",
    "            if i % 2 == 0:\n",
    "                X += str(numeros[i])  # Colocamos en X los números de posiciones pares\n",
    "            else:\n",
    "                Y += str(numeros[i])  # Colocamos en Y los números de posiciones impares\n",
    "        \n",
    "        # Convertimos X y Y a enteros y calculamos la suma\n",
    "        resultado = int(X) + int(Y)\n",
    "        resultados.append(resultado)\n",
    "    \n",
    "    return resultados\n",
    "\n",
    "# Lectura de entrada\n",
    "C = int(input())  # Número de casos\n",
    "casos = []\n",
    "\n",
    "for _ in range(C):\n",
    "    N = int(input())  # Número de valores en el conjunto\n",
    "    numeros = list(map(int, input().split()))\n",
    "    casos.append((N, numeros))\n",
    "\n",
    "# Obtener resultados\n",
    "resultados = menor_suma_posible(casos)\n",
    "\n",
    "# Imprimir resultados\n",
    "for res in resultados:\n",
    "    print(res)\n"
   ]
  },
  {
   "cell_type": "markdown",
   "metadata": {},
   "source": [
    "## Ejercicio 5"
   ]
  },
  {
   "cell_type": "code",
   "execution_count": 21,
   "metadata": {},
   "outputs": [
    {
     "name": "stdout",
     "output_type": "stream",
     "text": [
      "0\n",
      "500\n",
      "1000\n",
      "1200\n",
      "1500\n",
      "1500\n",
      "2000\n",
      "2250\n",
      "2500\n",
      "2800\n",
      "3000\n",
      "3000\n"
     ]
    }
   ],
   "source": [
    "# Leer la duración de la canción\n",
    "duracion_cancion = int(input().strip())\n",
    "\n",
    "# Leer la cantidad de tonos\n",
    "N = int(input().strip())\n",
    "\n",
    "# Inicializar una lista para almacenar los eventos de sonido\n",
    "eventos = []\n",
    "\n",
    "# Procesar cada tono\n",
    "for _ in range(N):\n",
    "    # Leer la información del tono\n",
    "    t, m, f = map(int, input().strip().split())\n",
    "    \n",
    "    # Agregar eventos para el tono\n",
    "    tiempo = m\n",
    "    while tiempo <= duracion_cancion:\n",
    "        eventos.append(tiempo)\n",
    "        tiempo += f\n",
    "\n",
    "# Ordenar los eventos (sin eliminar duplicados)\n",
    "eventos.sort()\n",
    "\n",
    "# Imprimir los tiempos en milisegundos en que suenan los tonos\n",
    "for evento in eventos:\n",
    "    print(evento)\n"
   ]
  },
  {
   "cell_type": "markdown",
   "metadata": {},
   "source": [
    "## Ejercicio 6"
   ]
  },
  {
   "cell_type": "code",
   "execution_count": 5,
   "metadata": {},
   "outputs": [
    {
     "name": "stdout",
     "output_type": "stream",
     "text": [
      "6\n"
     ]
    }
   ],
   "source": [
    "C = int(input())\n",
    "l = []\n",
    " \n",
    "for i in range(C):\n",
    "    nums = []\n",
    "    e = input().split()\n",
    "    N = int(e[0])\n",
    "    A = int(e[1])\n",
    "    B = int(e[2])\n",
    "    for j in range(N):\n",
    "        nums.append(j+1)\n",
    "    while len(nums) > 1:\n",
    "        for k in range(len(nums)):\n",
    "            nums.append(((nums.pop(-k-1))*A) % B)\n",
    "        nums.sort(reverse=True)\n",
    "        for k1 in range(int(len(nums)/2)):\n",
    "            nums.pop()\n",
    "    l.append(nums[0])\n",
    " \n",
    "for t in l:\n",
    "    print(t)"
   ]
  }
 ],
 "metadata": {
  "kernelspec": {
   "display_name": "Python 3",
   "language": "python",
   "name": "python3"
  },
  "language_info": {
   "codemirror_mode": {
    "name": "ipython",
    "version": 3
   },
   "file_extension": ".py",
   "mimetype": "text/x-python",
   "name": "python",
   "nbconvert_exporter": "python",
   "pygments_lexer": "ipython3",
   "version": "3.12.6"
  }
 },
 "nbformat": 4,
 "nbformat_minor": 2
}

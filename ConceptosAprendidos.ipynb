{
 "cells": [
  {
   "cell_type": "markdown",
   "metadata": {},
   "source": [
    "# List Comprehension\n"
   ]
  },
  {
   "attachments": {
    "image.png": {
     "image/png": "[encoded data removed]"
    }
   },
   "cell_type": "markdown",
   "metadata": {},
   "source": [
    "![image.png](attachment:image.png)"
   ]
  },
  {
   "cell_type": "markdown",
   "metadata": {},
   "source": [
    "Ejemplo\n"
   ]
  },
  {
   "cell_type": "code",
   "execution_count": 1,
   "metadata": {},
   "outputs": [
    {
     "name": "stdout",
     "output_type": "stream",
     "text": [
      "['apple', 'banana', 'mango']\n"
     ]
    }
   ],
   "source": [
    "fruits = [\"apple\", \"banana\", \"cherry\", \"kiwi\", \"mango\"]\n",
    "newlist = [x for x in fruits if \"a\" in x]\n",
    "\n",
    "print(newlist)\n"
   ]
  },
  {
   "cell_type": "markdown",
   "metadata": {},
   "source": [
    "### Creando una lista con listas vacias "
   ]
  },
  {
   "cell_type": "code",
   "execution_count": 2,
   "metadata": {},
   "outputs": [
    {
     "name": "stdout",
     "output_type": "stream",
     "text": [
      "[[], [], []]\n"
     ]
    }
   ],
   "source": [
    "# Usando list comprehension\n",
    "listaVacia = [[] for _ in range(3)]\n",
    "print(listaVacia)"
   ]
  },
  {
   "cell_type": "code",
   "execution_count": 3,
   "metadata": {},
   "outputs": [
    {
     "name": "stdout",
     "output_type": "stream",
     "text": [
      "[[], [], []]\n"
     ]
    }
   ],
   "source": [
    "# sin usarla, solo con ciclo for\n",
    "listaVacia =[]\n",
    "for _ in range(3):\n",
    "    listaVacia.append([])\n",
    "print(listaVacia)"
   ]
  },
  {
   "cell_type": "markdown",
   "metadata": {},
   "source": [
    "### lista y suma de numero pares "
   ]
  },
  {
   "cell_type": "code",
   "execution_count": null,
   "metadata": {},
   "outputs": [
    {
     "name": "stdout",
     "output_type": "stream",
     "text": [
      "[2, 4, 6, 8]\n",
      "20\n"
     ]
    }
   ],
   "source": [
    "listaNumeros = [1, 2, 3, 4, 5, 6, 7, 8]\n",
    "\n",
    "print(list(i for i in listaNumeros if i % 2 == 0))\n",
    "print(sum(i for i in listaNumeros if i % 2 == 0))"
   ]
  },
  {
   "cell_type": "markdown",
   "metadata": {},
   "source": [
    "# enumerate() Function\n"
   ]
  },
  {
   "attachments": {
    "image.png": {
     "image/png": "[encoded data removed]"
    }
   },
   "cell_type": "markdown",
   "metadata": {},
   "source": [
    "![image.png](attachment:image.png)"
   ]
  },
  {
   "cell_type": "markdown",
   "metadata": {},
   "source": [
    "enumerate(x) me da el indice y el elemento"
   ]
  },
  {
   "cell_type": "code",
   "execution_count": 6,
   "metadata": {},
   "outputs": [
    {
     "name": "stdout",
     "output_type": "stream",
     "text": [
      "0 apple\n",
      "1 banana\n",
      "2 cherry\n"
     ]
    }
   ],
   "source": [
    "x = ('apple', 'banana', 'cherry')\n",
    "for i, elemento in enumerate(x):\n",
    "    print( i, elemento)"
   ]
  },
  {
   "cell_type": "markdown",
   "metadata": {},
   "source": [
    "# Función map()\n"
   ]
  },
  {
   "cell_type": "markdown",
   "metadata": {},
   "source": [
    "The map() function is used to apply a given function to every item of an iterable, such as a list or tuple, and **returns a map object (which is an iterator).**"
   ]
  },
  {
   "cell_type": "code",
   "execution_count": 8,
   "metadata": {},
   "outputs": [
    {
     "name": "stdout",
     "output_type": "stream",
     "text": [
      "[1, 2, 3, 4]\n"
     ]
    }
   ],
   "source": [
    "# Aplicamos la funcion int a cada uno de los elementos string de la lista,\n",
    "# nos devuelve un objeto al que aplicamos list()\n",
    "s = ['1', '2', '3', '4']\n",
    "res = map(int, s)\n",
    "print(list(res))\n"
   ]
  },
  {
   "cell_type": "markdown",
   "metadata": {},
   "source": [
    "# Range()\n",
    "\n",
    "uso del step dentro de la función range"
   ]
  },
  {
   "cell_type": "code",
   "execution_count": 1,
   "metadata": {},
   "outputs": [
    {
     "name": "stdout",
     "output_type": "stream",
     "text": [
      "Letra: A, Número: 1\n",
      "Letra: A, Número: 2\n",
      "Letra: A, Número: 3\n",
      "Letra: A, Número: 4\n"
     ]
    }
   ],
   "source": [
    "entrada = input().split(\" \")\n",
    "\n",
    "for i in range(0, len(entrada), 2):  # Itera en saltos de 2\n",
    "    letra = entrada[i]\n",
    "    numero = int(entrada[i + 1])  # Convierte el número\n",
    "    print(f\"Letra: {letra}, Número: {numero}\")\n"
   ]
  },
  {
   "cell_type": "markdown",
   "metadata": {},
   "source": [
    "***if, elif y else*** están diseñados para ser mutuamente excluyentes: una vez que se encuentra una condición verdadera, Python salta el resto de las condiciones.\n",
    "\n",
    "si la condición del if se cumple, el bloque de código asociado al if se ejecuta y los elif y else no se evalúan ni se ejecutan."
   ]
  },
  {
   "cell_type": "markdown",
   "metadata": {},
   "source": [
    "# Algoritmos de ordenamiento"
   ]
  },
  {
   "cell_type": "markdown",
   "metadata": {},
   "source": [
    "## Algoritmo de burbuja"
   ]
  },
  {
   "cell_type": "markdown",
   "metadata": {},
   "source": [
    "Para ordenar una lista de forma ascendente en Python intercambiando datos contiguos de dos en dos (pareja a pareja) en cada paso. Este algoritmo recorre repetidamente la lista, comparando elementos adyacentes e intercambiándolos si están en el orden incorrecto."
   ]
  },
  {
   "cell_type": "code",
   "execution_count": 1,
   "metadata": {},
   "outputs": [
    {
     "name": "stdout",
     "output_type": "stream",
     "text": [
      "Lista original: [5, 3, 8, 6, 2]\n",
      "Lista ordenada: [2, 3, 5, 6, 8]\n"
     ]
    }
   ],
   "source": [
    "def ordenar_burbuja(lista):\n",
    "    n = len(lista)\n",
    "    for i in range(n - 1):  # Iterar hasta n-1 veces\n",
    "        for j in range(n - 1 - i):  # Iterar desde el inicio hasta el penúltimo elemento no ordenado\n",
    "            if lista[j] > lista[j + 1]:  # Comparar elementos contiguos\n",
    "                lista[j], lista[j + 1] = lista[j + 1], lista[j]  # Intercambiar si están en el orden incorrecto\n",
    "    return lista\n",
    "\n",
    "# Ejemplo de uso\n",
    "mi_lista = [5, 3, 8, 6, 2]\n",
    "print(\"Lista original:\", mi_lista)\n",
    "mi_lista_ordenada = ordenar_burbuja(mi_lista)\n",
    "print(\"Lista ordenada:\", mi_lista_ordenada)\n"
   ]
  },
  {
   "cell_type": "markdown",
   "metadata": {},
   "source": [
    "## Ordenar listas .sort()"
   ]
  },
  {
   "cell_type": "markdown",
   "metadata": {},
   "source": [
    "El método **.sort()** en Python se utiliza para ordenar listas de forma directa. Es un método in-place, lo que significa que modifica la lista original y no devuelve una nueva lista ordenada"
   ]
  },
  {
   "attachments": {
    "image.png": {
     "image/png": "[encoded data removed]"
    }
   },
   "cell_type": "markdown",
   "metadata": {},
   "source": [
    "![image.png](attachment:image.png)"
   ]
  },
  {
   "cell_type": "code",
   "execution_count": 1,
   "metadata": {},
   "outputs": [
    {
     "name": "stdout",
     "output_type": "stream",
     "text": [
      "[1, 2, 5, 5, 6, 9]\n"
     ]
    }
   ],
   "source": [
    "numeros = [5, 2, 9, 1, 5, 6]\n",
    "numeros.sort()\n",
    "print(numeros)\n",
    "# Salida: [1, 2, 5, 5, 6, 9]\n"
   ]
  },
  {
   "cell_type": "code",
   "execution_count": 2,
   "metadata": {},
   "outputs": [
    {
     "name": "stdout",
     "output_type": "stream",
     "text": [
      "[9, 6, 5, 5, 2, 1]\n"
     ]
    }
   ],
   "source": [
    "numeros = [5, 2, 9, 1, 5, 6]\n",
    "numeros.sort(reverse=True)\n",
    "print(numeros)\n",
    "# Salida: [9, 6, 5, 5, 2, 1]\n"
   ]
  },
  {
   "cell_type": "code",
   "execution_count": 3,
   "metadata": {},
   "outputs": [
    {
     "name": "stdout",
     "output_type": "stream",
     "text": [
      "['gato', 'zorro', 'ratón', 'elefante']\n"
     ]
    }
   ],
   "source": [
    "palabras = [\"gato\", \"elefante\", \"zorro\", \"ratón\"]\n",
    "palabras.sort(key=len)\n",
    "print(palabras)\n",
    "# Salida: ['gato', 'zorro', 'ratón', 'elefante']\n"
   ]
  },
  {
   "cell_type": "markdown",
   "metadata": {},
   "source": [
    "## .sorted()\n",
    "\n",
    "a diferencia de sort(), sorted() no modifica la lista original si no que crea otra con los elementos ordenados"
   ]
  },
  {
   "cell_type": "code",
   "execution_count": 4,
   "metadata": {},
   "outputs": [
    {
     "name": "stdout",
     "output_type": "stream",
     "text": [
      "[1, 2, 5, 9]\n",
      "[5, 2, 9, 1]\n"
     ]
    }
   ],
   "source": [
    "numeros = [5, 2, 9, 1]\n",
    "nueva_lista = sorted(numeros)\n",
    "print(nueva_lista)  # [1, 2, 5, 9]\n",
    "print(numeros)      # [5, 2, 9, 1]\n"
   ]
  },
  {
   "cell_type": "markdown",
   "metadata": {},
   "source": [
    "## Colas \n"
   ]
  },
  {
   "cell_type": "code",
   "execution_count": 1,
   "metadata": {},
   "outputs": [
    {
     "name": "stdout",
     "output_type": "stream",
     "text": [
      "Cola: [10, 20, 30]\n",
      "Desencolar: 10\n",
      "Cola después de desencolar: [20, 30]\n"
     ]
    }
   ],
   "source": [
    "from collections import deque\n",
    "\n",
    "cola = deque()\n",
    "\n",
    "# Operaciones\n",
    "cola.append(10)  # Encolar\n",
    "cola.append(20)\n",
    "cola.append(30)\n",
    "print(\"Cola:\", list(cola))\n",
    "\n",
    "print(\"Desencolar:\", cola.popleft())  # Desencolar\n",
    "print(\"Cola después de desencolar:\", list(cola))\n"
   ]
  },
  {
   "cell_type": "markdown",
   "metadata": {},
   "source": [
    "# division\n",
    "la diferencia entre / y // radica en el tipo de división que realizan\n",
    "El operador / realiza una división normal que siempre produce un número decimal (float)\n",
    "El operador // realiza una división entera, que redondea el resultado hacia abajo al número entero más cercano (floor division)"
   ]
  },
  {
   "cell_type": "code",
   "execution_count": 17,
   "metadata": {},
   "outputs": [
    {
     "name": "stdout",
     "output_type": "stream",
     "text": [
      "3.3333333333333335\n",
      "5.0\n",
      "3.6666666666666665\n"
     ]
    }
   ],
   "source": [
    "print(10 / 3)  # Resultado: 3.3333333333333335\n",
    "print(10 / 2)  # Resultado: 5.0\n",
    "print(11 / 3) \n"
   ]
  },
  {
   "cell_type": "code",
   "execution_count": 18,
   "metadata": {},
   "outputs": [
    {
     "name": "stdout",
     "output_type": "stream",
     "text": [
      "3\n",
      "5\n",
      "3\n"
     ]
    }
   ],
   "source": [
    "print(10 // 3)  # Resultado: 3\n",
    "print(10 // 2)  # Resultado: 5\n",
    "print(11 // 3)  # Resultado: 3.0"
   ]
  },
  {
   "cell_type": "markdown",
   "metadata": {},
   "source": [
    "## Slicing\n",
    "\n",
    "secuencia[inicio:fin:paso]\n"
   ]
  },
  {
   "cell_type": "code",
   "execution_count": 7,
   "metadata": {},
   "outputs": [
    {
     "name": "stdout",
     "output_type": "stream",
     "text": [
      "[0, 1, 2]\n"
     ]
    },
    {
     "data": {
      "text/plain": [
       "(0, 1, 2)"
      ]
     },
     "execution_count": 7,
     "metadata": {},
     "output_type": "execute_result"
    }
   ],
   "source": [
    "lista = [0, 1, 2, 3, 4, 5]\n",
    "tupla = (0, 1, 2, 3, 4, 5)\n",
    "\n",
    "print(lista[:3])  # Extraer los primeros 3 elementos:\n",
    "tupla[:3]\n"
   ]
  },
  {
   "cell_type": "code",
   "execution_count": 8,
   "metadata": {},
   "outputs": [
    {
     "data": {
      "text/plain": [
       "[2, 3, 4, 5]"
      ]
     },
     "execution_count": 8,
     "metadata": {},
     "output_type": "execute_result"
    }
   ],
   "source": [
    "lista[2:]  #Extraer desde el índice 2 hasta el final:\n",
    "lista[::2]  # Extraer elementos con saltos de 2:\n"
   ]
  },
  {
   "cell_type": "markdown",
   "metadata": {},
   "source": [
    "El operador [::-1] es un caso especial del slicing que invierte la secuencia. Aquí, el paso es -1, lo que significa que se recorren los elementos en orden inverso."
   ]
  },
  {
   "cell_type": "code",
   "execution_count": 13,
   "metadata": {},
   "outputs": [
    {
     "data": {
      "text/plain": [
       "[5, 4, 3, 2, 1, 0]"
      ]
     },
     "execution_count": 13,
     "metadata": {},
     "output_type": "execute_result"
    }
   ],
   "source": [
    "lista[::-1]  # Invertir una lista:\n"
   ]
  },
  {
   "cell_type": "code",
   "execution_count": 12,
   "metadata": {},
   "outputs": [
    {
     "data": {
      "text/plain": [
       "'aloH'"
      ]
     },
     "execution_count": 12,
     "metadata": {},
     "output_type": "execute_result"
    }
   ],
   "source": [
    "cadena = \"Hola\"\n",
    "cadena[::-1]  # Invertir una cadena"
   ]
  }
 ],
 "metadata": {
  "kernelspec": {
   "display_name": "Python 3",
   "language": "python",
   "name": "python3"
  },
  "language_info": {
   "codemirror_mode": {
    "name": "ipython",
    "version": 3
   },
   "file_extension": ".py",
   "mimetype": "text/x-python",
   "name": "python",
   "nbconvert_exporter": "python",
   "pygments_lexer": "ipython3",
   "version": "3.12.6"
  }
 },
 "nbformat": 4,
 "nbformat_minor": 2
}

{
 "cells": [
  {
   "cell_type": "markdown",
   "metadata": {},
   "source": [
    "# List Comprehension\n"
   ]
  },
  {
   "attachments": {
    "image.png": {
     "image/png": "[encoded data removed]"
    }
   },
   "cell_type": "markdown",
   "metadata": {},
   "source": [
    "![image.png](attachment:image.png)"
   ]
  },
  {
   "cell_type": "markdown",
   "metadata": {},
   "source": [
    "Ejemplo\n"
   ]
  },
  {
   "cell_type": "code",
   "execution_count": 1,
   "metadata": {},
   "outputs": [
    {
     "name": "stdout",
     "output_type": "stream",
     "text": [
      "['apple', 'banana', 'mango']\n"
     ]
    }
   ],
   "source": [
    "fruits = [\"apple\", \"banana\", \"cherry\", \"kiwi\", \"mango\"]\n",
    "newlist = [x for x in fruits if \"a\" in x]\n",
    "\n",
    "print(newlist)\n"
   ]
  },
  {
   "cell_type": "markdown",
   "metadata": {},
   "source": [
    "### Creando una lista con listas vacias "
   ]
  },
  {
   "cell_type": "code",
   "execution_count": 2,
   "metadata": {},
   "outputs": [
    {
     "name": "stdout",
     "output_type": "stream",
     "text": [
      "[[], [], []]\n"
     ]
    }
   ],
   "source": [
    "# Usando list comprehension\n",
    "listaVacia = [[] for _ in range(3)]\n",
    "print(listaVacia)"
   ]
  },
  {
   "cell_type": "code",
   "execution_count": 3,
   "metadata": {},
   "outputs": [
    {
     "name": "stdout",
     "output_type": "stream",
     "text": [
      "[[], [], []]\n"
     ]
    }
   ],
   "source": [
    "# sin usarla, solo con ciclo for\n",
    "listaVacia =[]\n",
    "for _ in range(3):\n",
    "    listaVacia.append([])\n",
    "print(listaVacia)"
   ]
  },
  {
   "cell_type": "markdown",
   "metadata": {},
   "source": [
    "### lista y suma de numero pares "
   ]
  },
  {
   "cell_type": "code",
   "execution_count": null,
   "metadata": {},
   "outputs": [
    {
     "name": "stdout",
     "output_type": "stream",
     "text": [
      "[2, 4, 6, 8]\n",
      "20\n"
     ]
    }
   ],
   "source": [
    "listaNumeros = [1, 2, 3, 4, 5, 6, 7, 8]\n",
    "\n",
    "print(list(i for i in listaNumeros if i % 2 == 0))\n",
    "print(sum(i for i in listaNumeros if i % 2 == 0))"
   ]
  },
  {
   "cell_type": "markdown",
   "metadata": {},
   "source": [
    "# enumerate() Function\n"
   ]
  },
  {
   "attachments": {
    "image.png": {
     "image/png": "[encoded data removed]"
    }
   },
   "cell_type": "markdown",
   "metadata": {},
   "source": [
    "![image.png](attachment:image.png)"
   ]
  },
  {
   "cell_type": "markdown",
   "metadata": {},
   "source": [
    "enumerate(x) me da el indice y el elemento"
   ]
  },
  {
   "cell_type": "code",
   "execution_count": 6,
   "metadata": {},
   "outputs": [
    {
     "name": "stdout",
     "output_type": "stream",
     "text": [
      "0 apple\n",
      "1 banana\n",
      "2 cherry\n"
     ]
    }
   ],
   "source": [
    "x = ('apple', 'banana', 'cherry')\n",
    "for i, elemento in enumerate(x):\n",
    "    print( i, elemento)"
   ]
  },
  {
   "cell_type": "markdown",
   "metadata": {},
   "source": [
    "# Función map()\n"
   ]
  },
  {
   "cell_type": "markdown",
   "metadata": {},
   "source": [
    "The map() function is used to apply a given function to every item of an iterable, such as a list or tuple, and **returns a map object (which is an iterator).**"
   ]
  },
  {
   "cell_type": "code",
   "execution_count": 8,
   "metadata": {},
   "outputs": [
    {
     "name": "stdout",
     "output_type": "stream",
     "text": [
      "[1, 2, 3, 4]\n"
     ]
    }
   ],
   "source": [
    "# Aplicamos la funcion int a cada uno de los elementos string de la lista,\n",
    "# nos devuelve un objeto al que aplicamos list()\n",
    "s = ['1', '2', '3', '4']\n",
    "res = map(int, s)\n",
    "print(list(res))\n"
   ]
  },
  {
   "cell_type": "markdown",
   "metadata": {},
   "source": [
    "# Range()\n",
    "\n",
    "uso del step dentro de la función range"
   ]
  },
  {
   "cell_type": "code",
   "execution_count": 1,
   "metadata": {},
   "outputs": [
    {
     "name": "stdout",
     "output_type": "stream",
     "text": [
      "Letra: A, Número: 1\n",
      "Letra: A, Número: 2\n",
      "Letra: A, Número: 3\n",
      "Letra: A, Número: 4\n"
     ]
    }
   ],
   "source": [
    "entrada = input().split(\" \")\n",
    "\n",
    "for i in range(0, len(entrada), 2):  # Itera en saltos de 2\n",
    "    letra = entrada[i]\n",
    "    numero = int(entrada[i + 1])  # Convierte el número\n",
    "    print(f\"Letra: {letra}, Número: {numero}\")\n"
   ]
  },
  {
   "cell_type": "markdown",
   "metadata": {},
   "source": [
    "***if, elif y else*** están diseñados para ser mutuamente excluyentes: una vez que se encuentra una condición verdadera, Python salta el resto de las condiciones.\n",
    "\n",
    "si la condición del if se cumple, el bloque de código asociado al if se ejecuta y los elif y else no se evalúan ni se ejecutan."
   ]
  },
  {
   "cell_type": "markdown",
   "metadata": {},
   "source": [
    "# Algoritmos de ordenamiento"
   ]
  },
  {
   "cell_type": "markdown",
   "metadata": {},
   "source": [
    "## Algoritmo de burbuja"
   ]
  },
  {
   "cell_type": "markdown",
   "metadata": {},
   "source": [
    "Para ordenar una lista de forma ascendente en Python intercambiando datos contiguos de dos en dos (pareja a pareja) en cada paso. Este algoritmo recorre repetidamente la lista, comparando elementos adyacentes e intercambiándolos si están en el orden incorrecto."
   ]
  },
  {
   "cell_type": "code",
   "execution_count": null,
   "metadata": {},
   "outputs": [],
   "source": [
    "def ordenar_burbuja(lista):\n",
    "    n = len(lista)\n",
    "    for i in range(n - 1):  # Iterar hasta n-1 veces\n",
    "        for j in range(n - 1 - i):  # Iterar desde el inicio hasta el penúltimo elemento no ordenado\n",
    "            if lista[j] > lista[j + 1]:  # Comparar elementos contiguos\n",
    "                lista[j], lista[j + 1] = lista[j + 1], lista[j]  # Intercambiar si están en el orden incorrecto\n",
    "    return lista\n",
    "\n",
    "# Ejemplo de uso\n",
    "mi_lista = [5, 3, 8, 6, 2]\n",
    "print(\"Lista original:\", mi_lista)\n",
    "mi_lista_ordenada = ordenar_burbuja(mi_lista)\n",
    "print(\"Lista ordenada:\", mi_lista_ordenada)\n"
   ]
  }
 ],
 "metadata": {
  "kernelspec": {
   "display_name": "Python 3",
   "language": "python",
   "name": "python3"
  },
  "language_info": {
   "codemirror_mode": {
    "name": "ipython",
    "version": 3
   },
   "file_extension": ".py",
   "mimetype": "text/x-python",
   "name": "python",
   "nbconvert_exporter": "python",
   "pygments_lexer": "ipython3",
   "version": "3.12.1"
  }
 },
 "nbformat": 4,
 "nbformat_minor": 2
}

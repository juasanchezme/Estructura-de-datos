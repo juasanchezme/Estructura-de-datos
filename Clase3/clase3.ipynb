{
 "cells": [
  {
   "cell_type": "markdown",
   "metadata": {},
   "source": [
    "¿ Qué es un arreglo?\n",
    "es una estructura de datos que almacena un conjunto de elementos tales que \n",
    "- los elementos que almacena son de un mismo tipo\n",
    "- quedan guardados en posiciones consecutivas de memoria\n",
    "- Pueden ser accedidos mediante un índice (empezando en cero)."
   ]
  },
  {
   "cell_type": "markdown",
   "metadata": {},
   "source": [
    "## Los arreglos en Numpy"
   ]
  },
  {
   "cell_type": "code",
   "execution_count": 5,
   "metadata": {},
   "outputs": [
    {
     "name": "stdout",
     "output_type": "stream",
     "text": [
      "15\n",
      "12\n",
      "13\n",
      "14\n",
      "15\n",
      "16\n",
      "17\n"
     ]
    }
   ],
   "source": [
    "import numpy as np\n",
    "\n",
    "arreglo = np.array([12,13,14,15,16,17])\n",
    "print(arreglo[3])\n",
    "\n",
    "for i in range(0, len(arreglo)):\n",
    "    print(arreglo[i])"
   ]
  },
  {
   "cell_type": "markdown",
   "metadata": {},
   "source": [
    "Para los arreglos en numpy, el tipo de dato del primer elemento del arreglo me determina el resto de los datos"
   ]
  },
  {
   "cell_type": "code",
   "execution_count": 6,
   "metadata": {},
   "outputs": [
    {
     "name": "stdout",
     "output_type": "stream",
     "text": [
      "15\n",
      "<class 'numpy.str_'>\n",
      "hola\n",
      "13\n",
      "14\n",
      "15\n",
      "16\n",
      "17\n"
     ]
    }
   ],
   "source": [
    "arreglo = np.array([\"hola\",13,14,15,16,17])\n",
    "print(arreglo[3])\n",
    "\n",
    "print(type(arreglo[1]))\n",
    "\n",
    "for i in range(0, len(arreglo)):\n",
    "    print(arreglo[i])\n",
    "\n"
   ]
  },
  {
   "cell_type": "markdown",
   "metadata": {},
   "source": [
    "inicializando un arreglo de ceros "
   ]
  },
  {
   "cell_type": "code",
   "execution_count": 10,
   "metadata": {},
   "outputs": [
    {
     "name": "stdout",
     "output_type": "stream",
     "text": [
      "[0. 0. 0. 0.]\n"
     ]
    }
   ],
   "source": [
    "arreglo2= np.zeros([4])\n",
    "print(arreglo2)"
   ]
  },
  {
   "cell_type": "markdown",
   "metadata": {},
   "source": [
    "un arreglo vacio y vemos su dirección en memoria"
   ]
  },
  {
   "cell_type": "code",
   "execution_count": 11,
   "metadata": {},
   "outputs": [
    {
     "name": "stdout",
     "output_type": "stream",
     "text": [
      "[ 6.95229731e-310  1.02715439e-311 -0.00000000e+000]\n"
     ]
    }
   ],
   "source": [
    "arreglo3= np.empty([3])\n",
    "print(arreglo3)"
   ]
  }
 ],
 "metadata": {
  "kernelspec": {
   "display_name": "Python 3",
   "language": "python",
   "name": "python3"
  },
  "language_info": {
   "codemirror_mode": {
    "name": "ipython",
    "version": 3
   },
   "file_extension": ".py",
   "mimetype": "text/x-python",
   "name": "python",
   "nbconvert_exporter": "python",
   "pygments_lexer": "ipython3",
   "version": "3.12.6"
  }
 },
 "nbformat": 4,
 "nbformat_minor": 2
}

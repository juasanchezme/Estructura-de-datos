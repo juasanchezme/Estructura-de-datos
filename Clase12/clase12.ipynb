{
 "cells": [
  {
   "cell_type": "markdown",
   "metadata": {},
   "source": [
    "# Hashing y diccionarios"
   ]
  },
  {
   "cell_type": "markdown",
   "metadata": {},
   "source": [
    "## Ejercicio 1"
   ]
  },
  {
   "cell_type": "code",
   "execution_count": 1,
   "metadata": {},
   "outputs": [
    {
     "ename": "ValueError",
     "evalue": "invalid literal for int() with base 10: ''",
     "output_type": "error",
     "traceback": [
      "\u001b[1;31m---------------------------------------------------------------------------\u001b[0m",
      "\u001b[1;31mValueError\u001b[0m                                Traceback (most recent call last)",
      "Cell \u001b[1;32mIn[1], line 24\u001b[0m\n\u001b[0;32m     20\u001b[0m         \u001b[38;5;28mprint\u001b[39m(translations\u001b[38;5;241m.\u001b[39mget(query, \u001b[38;5;124m\"\u001b[39m\u001b[38;5;124mEntrada no encontrada\u001b[39m\u001b[38;5;124m\"\u001b[39m))\n\u001b[0;32m     22\u001b[0m \u001b[38;5;66;03m# Run the program\u001b[39;00m\n\u001b[1;32m---> 24\u001b[0m \u001b[43mprocess_translations\u001b[49m\u001b[43m(\u001b[49m\u001b[43m)\u001b[49m\n",
      "Cell \u001b[1;32mIn[1], line 3\u001b[0m, in \u001b[0;36mprocess_translations\u001b[1;34m()\u001b[0m\n\u001b[0;32m      1\u001b[0m \u001b[38;5;28;01mdef\u001b[39;00m \u001b[38;5;21mprocess_translations\u001b[39m():\n\u001b[0;32m      2\u001b[0m     \u001b[38;5;66;03m# Read number of translations\u001b[39;00m\n\u001b[1;32m----> 3\u001b[0m     n \u001b[38;5;241m=\u001b[39m \u001b[38;5;28;43mint\u001b[39;49m\u001b[43m(\u001b[49m\u001b[38;5;28;43minput\u001b[39;49m\u001b[43m(\u001b[49m\u001b[43m)\u001b[49m\u001b[43m)\u001b[49m\n\u001b[0;32m      5\u001b[0m     \u001b[38;5;66;03m# Create dictionary for translations\u001b[39;00m\n\u001b[0;32m      6\u001b[0m     translations \u001b[38;5;241m=\u001b[39m {}\n",
      "\u001b[1;31mValueError\u001b[0m: invalid literal for int() with base 10: ''"
     ]
    }
   ],
   "source": [
    "def process_translations():\n",
    "    # Read number of translations\n",
    "    n = int(input())\n",
    "    \n",
    "    # Create dictionary for translations\n",
    "    translations = {}\n",
    "    \n",
    "    # Read n translations\n",
    "    for _ in range(n):\n",
    "        ewok, spanish = input().split()\n",
    "        translations[ewok] = spanish\n",
    "    \n",
    "    # Process queries until '#' is found\n",
    "    while True:\n",
    "        query = input()\n",
    "        if query == '#':\n",
    "            break\n",
    "            \n",
    "        # Print translation or \"Entrada no encontrada\"\n",
    "        print(translations.get(query, \"Entrada no encontrada\"))\n",
    "\n",
    "# Run the program\n",
    "\n",
    "process_translations()"
   ]
  },
  {
   "cell_type": "markdown",
   "metadata": {},
   "source": [
    "## Ejercicio 2"
   ]
  },
  {
   "cell_type": "code",
   "execution_count": null,
   "metadata": {},
   "outputs": [],
   "source": [
    "# Read input\n",
    "N, T = map(int, input().split())\n",
    "nums = []\n",
    "for _ in range(N):\n",
    "    nums.append(int(input()))\n",
    "\n",
    "# Sort array to ensure ascending order\n",
    "nums.sort()\n",
    "\n",
    "# Find triplets\n",
    "found = False\n",
    "\n",
    "# Try all possible combinations\n",
    "for i in range(N-2):\n",
    "    for j in range(i+1, N-1):\n",
    "        for k in range(j+1, N):\n",
    "            if nums[i] + nums[j] + nums[k] == T:\n",
    "                print(nums[i], nums[j], nums[k])\n",
    "                found = True\n",
    "\n",
    "if not found:\n",
    "    print(\"No hay trillizas\")"
   ]
  },
  {
   "cell_type": "markdown",
   "metadata": {},
   "source": [
    "## Ejercicio 3"
   ]
  },
  {
   "cell_type": "code",
   "execution_count": 2,
   "metadata": {},
   "outputs": [
    {
     "name": "stdout",
     "output_type": "stream",
     "text": [
      "400 5000\n",
      "400 1666\n",
      "200 3333\n"
     ]
    }
   ],
   "source": [
    "M = int(input())\n",
    "\n",
    "winners = {}  # usando un diccionario o set; aquí usaremos un diccionario para guardar los ganadores\n",
    "sms_count = {}  # diccionario para contar boletas (keys: número, value: cantidad total SMS)\n",
    "printed = False  # bandera para saber si se imprimió alguna boleta ganadora\n",
    "\n",
    "# Procesa cada registro del día\n",
    "while True:\n",
    "    line = input().strip()\n",
    "    if line == \"end\":\n",
    "        break\n",
    "\n",
    "    parts = line.split()\n",
    "    tipo, num = parts[0], int(parts[1])\n",
    "    \n",
    "    if tipo == \"winner\":\n",
    "        # Agregar número ganador si aún no se ha presentado\n",
    "        if num not in winners:\n",
    "            winners[num] = True\n",
    "        # No se imprime nada en el evento winner\n",
    "    elif tipo == \"sms\":\n",
    "        # Siempre se acumulan los SMS, incluso si fueron enviados antes del winner\n",
    "        sms_count[num] = sms_count.get(num, 0) + 1\n",
    "        \n",
    "        # Si el número ya es ganador, el SMS es ganador\n",
    "        if num in winners:\n",
    "            # G es la cantidad de números ganadores diferentes hasta el momento\n",
    "            G = len(winners)\n",
    "            # C es la cantidad total de SMS comprados con ese número (incluye SMS anteriores)\n",
    "            C = sms_count[num]\n",
    "            premio = M // (G * C)\n",
    "            print(f\"{num} {premio}\")\n",
    "            printed = True\n",
    "\n",
    "# Si no hay ninguna boleta ganadora, se imprime 0\n",
    "if not printed:\n",
    "    print(0)"
   ]
  },
  {
   "cell_type": "markdown",
   "metadata": {},
   "source": [
    "## Ejercicio 4"
   ]
  },
  {
   "cell_type": "code",
   "execution_count": null,
   "metadata": {},
   "outputs": [],
   "source": [
    "def get_compound_splits(word, words_set):\n",
    "    \"\"\"\n",
    "    Find all possible splits of the word into two parts that are both present in the words_set.\n",
    "    Returns a list of tuples (first_part, second_part).\n",
    "    \"\"\"\n",
    "    splits = []\n",
    "    n = len(word)\n",
    "    for i in range(1, n):\n",
    "        first = word[:i]\n",
    "        second = word[i:]\n",
    "        if first in words_set and second in words_set:\n",
    "            splits.append((first, second))\n",
    "    return splits\n",
    "\n",
    "# Read words until '#' is found\n",
    "words = []\n",
    "while True:\n",
    "    line = input().strip()\n",
    "    if line == '#':\n",
    "        break\n",
    "    words.append(line)\n",
    "\n",
    "# Create a set for O(1) lookups\n",
    "words_set = set(words)\n",
    "\n",
    "# Find all compound words and their possible splits\n",
    "compounds = []\n",
    "for word in words:\n",
    "    splits = get_compound_splits(word, words_set)\n",
    "    for first, second in splits:\n",
    "        compounds.append((word, first, second))\n",
    "\n",
    "# Sort by compound word, then by the first part\n",
    "compounds.sort(key=lambda x: (x[0], x[1]))\n",
    "\n",
    "# Output the results\n",
    "for entry in compounds:\n",
    "    print(f\"{entry[0]} = {entry[1]} + {entry[2]}\")"
   ]
  },
  {
   "cell_type": "markdown",
   "metadata": {},
   "source": [
    "## Ejercicio 5"
   ]
  },
  {
   "cell_type": "code",
   "execution_count": null,
   "metadata": {},
   "outputs": [],
   "source": [
    "def count_valid_votes(votes):\n",
    "    # Dictionary to store all votes by each voter\n",
    "    voter_votes = {}\n",
    "    # Dictionary to count valid votes for each candidate\n",
    "    candidate_votes = {}\n",
    "    \n",
    "    # Process all votes\n",
    "    for voter, candidate in votes:\n",
    "        voter_votes.setdefault(voter, []).append(candidate)\n",
    "    \n",
    "    # Count valid votes (voters who voted only once)\n",
    "    for voter, candidates in voter_votes.items():\n",
    "        if len(candidates) == 1:  # Valid voter (voted only once)\n",
    "            candidate = candidates[0]\n",
    "            candidate_votes[candidate] = candidate_votes.get(candidate, 0) + 1\n",
    "    \n",
    "    # Sort results by votes (descending) and then by candidate ID (descending)\n",
    "    results = sorted(candidate_votes.items(), key=lambda x: (-x[1], -x[0]))\n",
    "    return results\n",
    "\n",
    "# Read votes\n",
    "votes = []\n",
    "while True:\n",
    "    voter, candidate = map(int, input().split())\n",
    "    if voter == 0 and candidate == 0:\n",
    "        break\n",
    "    votes.append((voter, candidate))\n",
    "\n",
    "# Get and print results\n",
    "results = count_valid_votes(votes)\n",
    "for candidate, vote_count in results:\n",
    "    print(f\"{candidate} {vote_count}\")"
   ]
  },
  {
   "cell_type": "markdown",
   "metadata": {},
   "source": [
    "## Ejercicio 6"
   ]
  },
  {
   "cell_type": "code",
   "execution_count": null,
   "metadata": {},
   "outputs": [],
   "source": [
    "def sieve_of_eratosthenes(n):\n",
    "    \"\"\"Generate prime numbers up to n using Sieve of Eratosthenes\"\"\"\n",
    "    sieve = [True] * (n + 1)\n",
    "    sieve[0] = sieve[1] = False\n",
    "    \n",
    "    for i in range(2, int(n ** 0.5) + 1):\n",
    "        if sieve[i]:\n",
    "            for j in range(i * i, n + 1, i):\n",
    "                sieve[j] = False\n",
    "                \n",
    "    return [i for i in range(n + 1) if sieve[i]]\n",
    "\n",
    "def count_goldbach_pairs(n, primes):\n",
    "    \"\"\"Count number of prime pairs that sum to n\"\"\"\n",
    "    count = 0\n",
    "    i, j = 0, len(primes) - 1\n",
    "    \n",
    "    while i <= j:\n",
    "        curr_sum = primes[i] + primes[j]\n",
    "        if curr_sum == n:\n",
    "            if i == j:\n",
    "                count += 1\n",
    "            else:\n",
    "                count += 1\n",
    "            i += 1\n",
    "            j -= 1\n",
    "        elif curr_sum < n:\n",
    "            i += 1\n",
    "        else:\n",
    "            j -= 1\n",
    "            \n",
    "    return count\n",
    "\n",
    "# Read number of test cases\n",
    "C = int(input())\n",
    "\n",
    "# Generate primes up to maximum possible N (10000)\n",
    "primes = sieve_of_eratosthenes(10000)\n",
    "\n",
    "# Process each test case\n",
    "for _ in range(C):\n",
    "    N = int(input())\n",
    "    print(count_goldbach_pairs(N, primes))"
   ]
  }
 ],
 "metadata": {
  "kernelspec": {
   "display_name": "Python 3",
   "language": "python",
   "name": "python3"
  },
  "language_info": {
   "codemirror_mode": {
    "name": "ipython",
    "version": 3
   },
   "file_extension": ".py",
   "mimetype": "text/x-python",
   "name": "python",
   "nbconvert_exporter": "python",
   "pygments_lexer": "ipython3",
   "version": "3.12.6"
  }
 },
 "nbformat": 4,
 "nbformat_minor": 2
}
